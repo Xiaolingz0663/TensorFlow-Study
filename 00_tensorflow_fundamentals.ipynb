{
  "nbformat": 4,
  "nbformat_minor": 0,
  "metadata": {
    "colab": {
      "name": "00_tensorflow_fundamentals.ipynb",
      "provenance": [],
      "collapsed_sections": [
        "j66dTM0FmNyF",
        "yvwJzlzqDC8r",
        "le9Ak0m1qwGg",
        "thcIk4NDrmfS",
        "MwDuaAaWxnR_"
      ],
      "authorship_tag": "ABX9TyPUNPh/xuvjbhZ3XCIHiQNQ",
      "include_colab_link": true
    },
    "kernelspec": {
      "name": "python3",
      "display_name": "Python 3"
    },
    "language_info": {
      "name": "python"
    },
    "accelerator": "GPU"
  },
  "cells": [
    {
      "cell_type": "markdown",
      "metadata": {
        "id": "view-in-github",
        "colab_type": "text"
      },
      "source": [
        "<a href=\"https://colab.research.google.com/github/Xiaolingz0663/TensorFlow-Study/blob/main/00_tensorflow_fundamentals.ipynb\" target=\"_parent\"><img src=\"https://colab.research.google.com/assets/colab-badge.svg\" alt=\"Open In Colab\"/></a>"
      ]
    },
    {
      "cell_type": "markdown",
      "metadata": {
        "id": "j66dTM0FmNyF"
      },
      "source": [
        "# In this notebook, we 're going to cover some of the most fundamental concepts of tensors using TensorFlow\n",
        "\n",
        "More specifically, we are going to cover:\n",
        "* Intro to tensors\n",
        "* Getting info from tensors\n",
        "* Manipulate tensors\n",
        "* Tensors & NumPy\n",
        "* Using @tf.function ( a way to speed up your regular Python functions)\n",
        "* Using GPUs with tensorFlow\n",
        "* Exercises"
      ]
    },
    {
      "cell_type": "markdown",
      "metadata": {
        "id": "yvwJzlzqDC8r"
      },
      "source": [
        "### **Notion Note**"
      ]
    },
    {
      "cell_type": "markdown",
      "metadata": {
        "id": "XuR_4SVqC8-F"
      },
      "source": [
        "https://www.notion.so/Intro-Deep-Learning-with-TensorFlow-ee517b06c7264c7891bef502cf4546a7"
      ]
    },
    {
      "cell_type": "markdown",
      "metadata": {
        "id": "zsEVBb-jnPye"
      },
      "source": [
        "#Colab Shotcut: \n",
        "1. command+ MM | turn the cell to markdown\n",
        "2. command + shift + space | search on calab"
      ]
    },
    {
      "cell_type": "markdown",
      "metadata": {
        "id": "Fz3DHfHacHJs"
      },
      "source": [
        "##**14. Create Unchangeable Tensor with `tf.constant`**\n"
      ]
    },
    {
      "cell_type": "markdown",
      "metadata": {
        "id": "RiMjlZcfmD3V"
      },
      "source": [
        "* Scalar : a single number\n",
        "* Vector : a number with direction (e.g. Wind Speed and Direction)\n",
        "* Matrix : a 2-dimensional array of numbers\n",
        "* Tensor : an n-dimensional array of numbers ( 0-dim -> Scalar, 1-dim -> Vector)"
      ]
    },
    {
      "cell_type": "code",
      "metadata": {
        "colab": {
          "base_uri": "https://localhost:8080/"
        },
        "id": "ySaLr4Q7m-DI",
        "outputId": "8218e475-e0aa-4993-e50c-1c2900f56b1e"
      },
      "source": [
        "#Import TensorFlow\n",
        "import tensorflow as tf\n",
        "print(tf.__version__)"
      ],
      "execution_count": 1,
      "outputs": [
        {
          "output_type": "stream",
          "text": [
            "2.5.0\n"
          ],
          "name": "stdout"
        }
      ]
    },
    {
      "cell_type": "code",
      "metadata": {
        "colab": {
          "base_uri": "https://localhost:8080/"
        },
        "id": "uEbdzDTbuIj0",
        "outputId": "d20720ae-c13e-436e-f374-b21db178b93e"
      },
      "source": [
        "# Create tensors with tf.constant()\n",
        "# tf.constant creates a constant tensor from a tensor-like object\n",
        "scalar = tf.constant(7)\n",
        "scalar"
      ],
      "execution_count": 2,
      "outputs": [
        {
          "output_type": "execute_result",
          "data": {
            "text/plain": [
              "<tf.Tensor: shape=(), dtype=int32, numpy=7>"
            ]
          },
          "metadata": {
            "tags": []
          },
          "execution_count": 2
        }
      ]
    },
    {
      "cell_type": "code",
      "metadata": {
        "colab": {
          "base_uri": "https://localhost:8080/"
        },
        "id": "I8az8T_-ug54",
        "outputId": "9d5017b0-05a9-4fcf-997f-4239a1d51c71"
      },
      "source": [
        "# check num of dimensions of a tensor (ndim stands for number of dimensions)\n",
        "scalar.ndim"
      ],
      "execution_count": 3,
      "outputs": [
        {
          "output_type": "execute_result",
          "data": {
            "text/plain": [
              "0"
            ]
          },
          "metadata": {
            "tags": []
          },
          "execution_count": 3
        }
      ]
    },
    {
      "cell_type": "code",
      "metadata": {
        "colab": {
          "base_uri": "https://localhost:8080/"
        },
        "id": "8xrblA2_DCG7",
        "outputId": "2d55bf0f-9d82-4cab-e280-3f7d04219645"
      },
      "source": [
        "#create a vector\n",
        "vector=tf.constant([10,10])\n",
        "vector"
      ],
      "execution_count": 4,
      "outputs": [
        {
          "output_type": "execute_result",
          "data": {
            "text/plain": [
              "<tf.Tensor: shape=(2,), dtype=int32, numpy=array([10, 10], dtype=int32)>"
            ]
          },
          "metadata": {
            "tags": []
          },
          "execution_count": 4
        }
      ]
    },
    {
      "cell_type": "code",
      "metadata": {
        "colab": {
          "base_uri": "https://localhost:8080/"
        },
        "id": "GmZ1MrbXGogU",
        "outputId": "02b23770-44ae-4166-b39f-8147a1d6aba3"
      },
      "source": [
        "# check the dimension of our vector\n",
        "vector.ndim"
      ],
      "execution_count": 5,
      "outputs": [
        {
          "output_type": "execute_result",
          "data": {
            "text/plain": [
              "1"
            ]
          },
          "metadata": {
            "tags": []
          },
          "execution_count": 5
        }
      ]
    },
    {
      "cell_type": "code",
      "metadata": {
        "colab": {
          "base_uri": "https://localhost:8080/"
        },
        "id": "j9LAoVd6G7j2",
        "outputId": "a71e417a-d155-4ed6-ffe3-a7271e37bec3"
      },
      "source": [
        "#create a matrix (matrix has more than 1 dimension)\n",
        "matrix=tf.constant([[10,7],\n",
        "                    [7,10]])\n",
        "matrix"
      ],
      "execution_count": 6,
      "outputs": [
        {
          "output_type": "execute_result",
          "data": {
            "text/plain": [
              "<tf.Tensor: shape=(2, 2), dtype=int32, numpy=\n",
              "array([[10,  7],\n",
              "       [ 7, 10]], dtype=int32)>"
            ]
          },
          "metadata": {
            "tags": []
          },
          "execution_count": 6
        }
      ]
    },
    {
      "cell_type": "code",
      "metadata": {
        "colab": {
          "base_uri": "https://localhost:8080/"
        },
        "id": "G5GyGkZ1HI04",
        "outputId": "ab3009de-3f9e-4c01-cfdb-fab737eb5553"
      },
      "source": [
        "matrix.ndim"
      ],
      "execution_count": 7,
      "outputs": [
        {
          "output_type": "execute_result",
          "data": {
            "text/plain": [
              "2"
            ]
          },
          "metadata": {
            "tags": []
          },
          "execution_count": 7
        }
      ]
    },
    {
      "cell_type": "code",
      "metadata": {
        "colab": {
          "base_uri": "https://localhost:8080/"
        },
        "id": "smdBVGfTHXwx",
        "outputId": "a2faeefe-a2cf-4605-e69b-e2a6df44e88e"
      },
      "source": [
        "# create another matrix\n",
        "another_matrix = tf.constant([[10.,7.],\n",
        "                              [3.,2.],\n",
        "                              [8.,9.]],dtype=tf.float16) #specify the data type parameter\n",
        "another_matrix"
      ],
      "execution_count": 8,
      "outputs": [
        {
          "output_type": "execute_result",
          "data": {
            "text/plain": [
              "<tf.Tensor: shape=(3, 2), dtype=float16, numpy=\n",
              "array([[10.,  7.],\n",
              "       [ 3.,  2.],\n",
              "       [ 8.,  9.]], dtype=float16)>"
            ]
          },
          "metadata": {
            "tags": []
          },
          "execution_count": 8
        }
      ]
    },
    {
      "cell_type": "code",
      "metadata": {
        "colab": {
          "base_uri": "https://localhost:8080/"
        },
        "id": "uAdFN3U3H4rv",
        "outputId": "a871dc08-b913-4aaa-d94b-4822e944a814"
      },
      "source": [
        "# what is the number dimensions of another_matrix?\n",
        "another_matrix.ndim"
      ],
      "execution_count": 9,
      "outputs": [
        {
          "output_type": "execute_result",
          "data": {
            "text/plain": [
              "2"
            ]
          },
          "metadata": {
            "tags": []
          },
          "execution_count": 9
        }
      ]
    },
    {
      "cell_type": "code",
      "metadata": {
        "colab": {
          "base_uri": "https://localhost:8080/"
        },
        "id": "4-GHhx0Fapzb",
        "outputId": "03b668b5-415f-4769-a383-073335c8ae98"
      },
      "source": [
        "# create a tensor\n",
        "tensor = tf.constant([[[1,2,3,],\n",
        "                      [4,5,6]],\n",
        "                      [[7,8,9],\n",
        "                       [10,11,12]],\n",
        "                      [[13,14,15],\n",
        "                      [16,17,18]]])\n",
        "tensor"
      ],
      "execution_count": 10,
      "outputs": [
        {
          "output_type": "execute_result",
          "data": {
            "text/plain": [
              "<tf.Tensor: shape=(3, 2, 3), dtype=int32, numpy=\n",
              "array([[[ 1,  2,  3],\n",
              "        [ 4,  5,  6]],\n",
              "\n",
              "       [[ 7,  8,  9],\n",
              "        [10, 11, 12]],\n",
              "\n",
              "       [[13, 14, 15],\n",
              "        [16, 17, 18]]], dtype=int32)>"
            ]
          },
          "metadata": {
            "tags": []
          },
          "execution_count": 10
        }
      ]
    },
    {
      "cell_type": "code",
      "metadata": {
        "colab": {
          "base_uri": "https://localhost:8080/"
        },
        "id": "Fw-QNjTob8IW",
        "outputId": "02e615c0-60e1-4f02-a4bb-ea55668c9cf8"
      },
      "source": [
        "tensor.ndim"
      ],
      "execution_count": 11,
      "outputs": [
        {
          "output_type": "execute_result",
          "data": {
            "text/plain": [
              "3"
            ]
          },
          "metadata": {
            "tags": []
          },
          "execution_count": 11
        }
      ]
    },
    {
      "cell_type": "markdown",
      "metadata": {
        "id": "6fsAD1Zvli7n"
      },
      "source": [
        "## **15. Creating Changeable Tensor with `tf.Variable`**"
      ]
    },
    {
      "cell_type": "code",
      "metadata": {
        "colab": {
          "base_uri": "https://localhost:8080/"
        },
        "id": "Z85HaYAbhYTi",
        "outputId": "36191170-7bc6-4d87-bd91-d97c0742e54b"
      },
      "source": [
        "tf.Variable"
      ],
      "execution_count": 12,
      "outputs": [
        {
          "output_type": "execute_result",
          "data": {
            "text/plain": [
              "tensorflow.python.ops.variables.Variable"
            ]
          },
          "metadata": {
            "tags": []
          },
          "execution_count": 12
        }
      ]
    },
    {
      "cell_type": "code",
      "metadata": {
        "colab": {
          "base_uri": "https://localhost:8080/"
        },
        "id": "8VZzT6k_mno3",
        "outputId": "77d82354-868d-4f95-c2b7-11406dc6c4f6"
      },
      "source": [
        "changeable_tensor = tf.Variable([10,7])\n",
        "unchangeable_tensor = tf.constant([10,7])\n",
        "changeable_tensor, unchangeable_tensor"
      ],
      "execution_count": 13,
      "outputs": [
        {
          "output_type": "execute_result",
          "data": {
            "text/plain": [
              "(<tf.Variable 'Variable:0' shape=(2,) dtype=int32, numpy=array([10,  7], dtype=int32)>,\n",
              " <tf.Tensor: shape=(2,), dtype=int32, numpy=array([10,  7], dtype=int32)>)"
            ]
          },
          "metadata": {
            "tags": []
          },
          "execution_count": 13
        }
      ]
    },
    {
      "cell_type": "code",
      "metadata": {
        "colab": {
          "base_uri": "https://localhost:8080/"
        },
        "id": "lpL1bmh0nUVS",
        "outputId": "adb2838c-ab96-4e0c-a96c-f5399e103489"
      },
      "source": [
        "# change one ofthe elements in the changeable_tensor\n",
        "changeable_tensor[0]"
      ],
      "execution_count": 14,
      "outputs": [
        {
          "output_type": "execute_result",
          "data": {
            "text/plain": [
              "<tf.Tensor: shape=(), dtype=int32, numpy=10>"
            ]
          },
          "metadata": {
            "tags": []
          },
          "execution_count": 14
        }
      ]
    },
    {
      "cell_type": "code",
      "metadata": {
        "colab": {
          "base_uri": "https://localhost:8080/",
          "height": 164
        },
        "id": "cz7xzrFynb09",
        "outputId": "21b01a83-e2ca-4b79-8be4-c7a0a13c4822"
      },
      "source": [
        "changeable_tensor[0]=7"
      ],
      "execution_count": 15,
      "outputs": [
        {
          "output_type": "error",
          "ename": "TypeError",
          "evalue": "ignored",
          "traceback": [
            "\u001b[0;31m---------------------------------------------------------------------------\u001b[0m",
            "\u001b[0;31mTypeError\u001b[0m                                 Traceback (most recent call last)",
            "\u001b[0;32m<ipython-input-15-03f9db5960ee>\u001b[0m in \u001b[0;36m<module>\u001b[0;34m()\u001b[0m\n\u001b[0;32m----> 1\u001b[0;31m \u001b[0mchangeable_tensor\u001b[0m\u001b[0;34m[\u001b[0m\u001b[0;36m0\u001b[0m\u001b[0;34m]\u001b[0m\u001b[0;34m=\u001b[0m\u001b[0;36m7\u001b[0m\u001b[0;34m\u001b[0m\u001b[0;34m\u001b[0m\u001b[0m\n\u001b[0m",
            "\u001b[0;31mTypeError\u001b[0m: 'ResourceVariable' object does not support item assignment"
          ]
        }
      ]
    },
    {
      "cell_type": "code",
      "metadata": {
        "id": "W7o6jKJZnjhX"
      },
      "source": [
        "# .assign()\n",
        "changeable_tensor[0].assign(7)\n",
        "changeable_tensor"
      ],
      "execution_count": null,
      "outputs": []
    },
    {
      "cell_type": "code",
      "metadata": {
        "id": "f2pr6Wvsnxuv"
      },
      "source": [
        "# try change the unchangeable tensor\n",
        "unchangeable_tensor[0]"
      ],
      "execution_count": null,
      "outputs": []
    },
    {
      "cell_type": "code",
      "metadata": {
        "id": "VsfK1XKIn6qM"
      },
      "source": [
        "unchangeable_tensor[0]=7"
      ],
      "execution_count": null,
      "outputs": []
    },
    {
      "cell_type": "code",
      "metadata": {
        "id": "Bn0drosbn9bX"
      },
      "source": [
        "unchangeable_tensor[0].assign(7)"
      ],
      "execution_count": null,
      "outputs": []
    },
    {
      "cell_type": "markdown",
      "metadata": {
        "id": "txIMNIUPoE4h"
      },
      "source": [
        "## **16. Create Random Tensor with `tf.random.uniform`, `tf.random.normal`**\n",
        "\n",
        "Random tensors are tnesors of some abitrary size which contain random numbers\n",
        "\n",
        "- tf.random.uniform \n",
        "  Outputs random values from a uniform distribution.\n",
        "\n",
        "- tf.random.normal\n",
        "  Outputs random values from a normal distribution.\n",
        "\n",
        "\n"
      ]
    },
    {
      "cell_type": "code",
      "metadata": {
        "id": "MdxRNPxU9B3p"
      },
      "source": [
        "# create two random tensors\n",
        "random_1 = tf.random.Generator.from_seed(42) \n",
        "random_1 = random_1.normal(shape=(3,2))\n",
        "random_1"
      ],
      "execution_count": null,
      "outputs": []
    },
    {
      "cell_type": "code",
      "metadata": {
        "id": "1Mkg768V9agD"
      },
      "source": [
        "random_2 = tf.random.Generator.from_seed(42)\n",
        "random_2 = random_2.normal(shape=(3,2))\n",
        "random_2"
      ],
      "execution_count": null,
      "outputs": []
    },
    {
      "cell_type": "code",
      "metadata": {
        "id": "2JVnUuYE-PSv"
      },
      "source": [
        "random_1 == random_2"
      ],
      "execution_count": null,
      "outputs": []
    },
    {
      "cell_type": "markdown",
      "metadata": {
        "id": "G_BoWYB5-VkT"
      },
      "source": [
        "True. Because the seeds are the same"
      ]
    },
    {
      "cell_type": "markdown",
      "metadata": {
        "id": "CMFgJ6JGAjeK"
      },
      "source": [
        "## **17. Shuffle Elements Order of Tensors `tf.random.shuffle`**"
      ]
    },
    {
      "cell_type": "code",
      "metadata": {
        "id": "76Rw09O8A9Fx"
      },
      "source": [
        "# shuffle a tensure (valuable for when you want to shuffle your data so the inherent order doesn't effect learning )\n",
        "not_shuffled = tf. constant([[10,7],\n",
        "                             [3,4],\n",
        "                             [2,5]])\n",
        "not_shuffled.ndim"
      ],
      "execution_count": null,
      "outputs": []
    },
    {
      "cell_type": "code",
      "metadata": {
        "id": "f2m_fHySBQvv"
      },
      "source": [
        "not_shuffled"
      ],
      "execution_count": null,
      "outputs": []
    },
    {
      "cell_type": "code",
      "metadata": {
        "id": "kHGT4bn2BSI9"
      },
      "source": [
        "# shuffle out non-shuffled tensor\n",
        "tf.random.shuffle(not_shuffled)"
      ],
      "execution_count": null,
      "outputs": []
    },
    {
      "cell_type": "code",
      "metadata": {
        "id": "fRpA4UlRC0wb"
      },
      "source": [
        "tf.random.shuffle(not_shuffled)"
      ],
      "execution_count": null,
      "outputs": []
    },
    {
      "cell_type": "markdown",
      "metadata": {
        "id": "6z_g89ieDrRI"
      },
      "source": [
        "Evey time you run there are different order, unless you add seeds.\n",
        "Random Seeds are derived from two seeds:\n",
        "1. Golbal seeds\n",
        "2. Operation-level seeds"
      ]
    },
    {
      "cell_type": "code",
      "metadata": {
        "id": "gJZqHLEcDzHJ"
      },
      "source": [
        "#Set Operation-level seed\n",
        "tf.random.shuffle(not_shuffled,seed=42)"
      ],
      "execution_count": null,
      "outputs": []
    },
    {
      "cell_type": "code",
      "metadata": {
        "id": "W6wSXstTESEj"
      },
      "source": [
        "#Set Global seed\n",
        "tf.random.set_seed(42)\n",
        "tf.random.shuffle(not_shuffled,seed=42)"
      ],
      "execution_count": null,
      "outputs": []
    },
    {
      "cell_type": "markdown",
      "metadata": {
        "id": "FrzNkfxWElW-"
      },
      "source": [
        "### The interations with operation-level seeds is as follows:\n",
        "1. if neither global seed nor the operation seed is set, we get different results for every call to the random op and every re-run of the program.\n",
        "2. if the global seed is set but operation seed is not set, we get different results for every call to the random op, but the same sequence for every re-run.\n"
      ]
    },
    {
      "cell_type": "code",
      "metadata": {
        "id": "zf3UgQn7yjro"
      },
      "source": [
        "# 'tf.function' acts like a re-run of a program\n",
        "tf.random.set_seed(123)\n",
        "\n",
        "@tf.function\n",
        "def f():\n",
        "  a = tf.random.uniform([1])\n",
        "  b = tf.random.uniform([1])\n",
        "  return a,b\n",
        "  \n",
        "@tf.function\n",
        "def g():\n",
        "  a = tf.random.uniform([1])\n",
        "  b = tf.random.uniform([1]) \n",
        "  return a,b\n",
        "\n",
        "print(f())\n",
        "print(g())"
      ],
      "execution_count": null,
      "outputs": []
    },
    {
      "cell_type": "code",
      "metadata": {
        "id": "z8y1Lth1j9J7"
      },
      "source": [
        "tf.random.set_seed(40)\n",
        "a=tf.random.uniform([2])\n",
        "b=tf.random.uniform([2])\n",
        "print(a, b)"
      ],
      "execution_count": null,
      "outputs": []
    },
    {
      "cell_type": "code",
      "metadata": {
        "id": "JHkDamqikm2_"
      },
      "source": [
        "tf.random.set_seed(40)\n",
        "c=tf.random.uniform([2])\n",
        "d=tf.random.uniform([2])\n",
        "print(c, d)"
      ],
      "execution_count": null,
      "outputs": []
    },
    {
      "cell_type": "markdown",
      "metadata": {
        "id": "ONbHzqjtz1mD"
      },
      "source": [
        "3. If the operation seed is set, we get different results for every call to the random op, but the same sequence for every re-run of the program"
      ]
    },
    {
      "cell_type": "code",
      "metadata": {
        "id": "8ILICGDiyuKg"
      },
      "source": [
        "@tf.function\n",
        "def foo():\n",
        "  a = tf.random.uniform([1], seed=1)\n",
        "  b = tf.random.uniform([1], seed=1)\n",
        "  return a, b\n",
        "print(foo())  # prints '(A1, A1)'\n",
        "print(foo())  # prints '(A2, A2)'\n",
        "\n",
        "@tf.function\n",
        "def bar():\n",
        "  a = tf.random.uniform([1])\n",
        "  b = tf.random.uniform([1])\n",
        "  return a, b\n",
        "print(bar())  # prints '(A1, A2)'\n",
        "print(bar())  # prints '(A3, A4)'"
      ],
      "execution_count": null,
      "outputs": []
    },
    {
      "cell_type": "code",
      "metadata": {
        "id": "av7El2Xlyv9Y"
      },
      "source": [
        "print(tf.random.uniform([1], seed=1))  # generates 'A1'\n",
        "print(tf.random.uniform([1], seed=1))  # generates 'A2'"
      ],
      "execution_count": null,
      "outputs": []
    },
    {
      "cell_type": "markdown",
      "metadata": {
        "id": "sdEHBGBM0En_"
      },
      "source": [
        "4. If both the global and the operation seed are set: Both seeds are used in conjunction to determine the random sequence.\n",
        "\n",
        "* if you want to the shuffuled tensors to be in the same order, we got to use the global level and operation level seeds."
      ]
    },
    {
      "cell_type": "code",
      "metadata": {
        "id": "bTYeQ54Bo5qY"
      },
      "source": [
        "tf.random.set_seed(42)\n",
        "tf.random.shuffle(not_shuffled,seed=42)"
      ],
      "execution_count": null,
      "outputs": []
    },
    {
      "cell_type": "markdown",
      "metadata": {
        "id": "SGdCaAjppLXG"
      },
      "source": [
        "##**18. Other Way to Made Tensors**: `tf.ones`, `tf.zeros`, `tf.constant(numpy_array)`"
      ]
    },
    {
      "cell_type": "code",
      "metadata": {
        "id": "LXpARJ6fqjdH"
      },
      "source": [
        "#create a tensor of all ones\n",
        "tf.ones([10,5])"
      ],
      "execution_count": null,
      "outputs": []
    },
    {
      "cell_type": "code",
      "metadata": {
        "id": "kRfgo3K1qot7"
      },
      "source": [
        "#create a tensor of all zeros\n",
        "tf.zeros(shape=(3,4))"
      ],
      "execution_count": null,
      "outputs": []
    },
    {
      "cell_type": "markdown",
      "metadata": {
        "id": "le9Ak0m1qwGg"
      },
      "source": [
        "### turn NumPy arrays into tensor: `tf.constant(numpy_array, shape=())`\n",
        "The main difference between NumPy arrays and TensorFlow tensors is that ensors can be cun on a GPU"
      ]
    },
    {
      "cell_type": "code",
      "metadata": {
        "id": "SZNuYgb7rCk-"
      },
      "source": [
        " #trun NumPy into tensors\n",
        " import numpy as np\n",
        " numpy_A= np.arange(1,25,dtype=np.int32)\n",
        " numpy_A\n",
        "\n",
        " #X = tf.constant(some_matrix)\n",
        " #y = tf.constant(vector)"
      ],
      "execution_count": null,
      "outputs": []
    },
    {
      "cell_type": "code",
      "metadata": {
        "id": "2fitEBnBrR94"
      },
      "source": [
        "\n",
        "A = tf.constant(numpy_A)\n",
        "A"
      ],
      "execution_count": null,
      "outputs": []
    },
    {
      "cell_type": "code",
      "metadata": {
        "id": "jdgidR9Wrl3i"
      },
      "source": [
        "# change the shape of a numpy array has to be the equal elements as the array. e.g. 2*3*4= 24\n",
        "B = tf.constant(numpy_A, shape=(2,3,4))\n",
        "B"
      ],
      "execution_count": null,
      "outputs": []
    },
    {
      "cell_type": "markdown",
      "metadata": {
        "id": "thcIk4NDrmfS"
      },
      "source": [
        "## **19. Tensors Attributes**\n",
        "- shape\n",
        "- Rank: the number of tensor dimensions\n",
        "- Axis or dimension\n",
        "- Size"
      ]
    },
    {
      "cell_type": "code",
      "metadata": {
        "id": "SMn7YQSBs-gs"
      },
      "source": [
        " #Create a rank 4 tensor (4 dimensions)\n",
        " rank_4_tensor = tf.zeros(shape=[2,3,4,5])\n",
        " rank_4_tensor"
      ],
      "execution_count": null,
      "outputs": []
    },
    {
      "cell_type": "code",
      "metadata": {
        "id": "iVCTG2Hxwgax"
      },
      "source": [
        "rank_4_tensor[0]"
      ],
      "execution_count": null,
      "outputs": []
    },
    {
      "cell_type": "code",
      "metadata": {
        "id": "o8E2Oofww6uj"
      },
      "source": [
        "rank_4_tensor.shape,rank_4_tensor.ndim,tf.size(rank_4_tensor)"
      ],
      "execution_count": null,
      "outputs": []
    },
    {
      "cell_type": "code",
      "metadata": {
        "id": "gNA-I5-DxOTl"
      },
      "source": [
        "# get various attributes of tensor\n",
        "print(\"Datatype of every element:\",rank_4_tensor.dtype)\n",
        "print(\"Number of dimensions/Rank:\", rank_4_tensor.ndim)\n",
        "print(\"Shape of tensor:\", rank_4_tensor.shape)\n",
        "print(\"Elements along the 0 axis:\", rank_4_tensor.shape[0])\n",
        "print(\"Elements along the last axis:\", rank_4_tensor.shape[-1])\n",
        "print(\"Total number of elements in our tensor:\", tf.size(rank_4_tensor).numpy())"
      ],
      "execution_count": null,
      "outputs": []
    },
    {
      "cell_type": "markdown",
      "metadata": {
        "id": "MwDuaAaWxnR_"
      },
      "source": [
        "## **20.Indexing and Expanding Tensors**\n",
        "Tensors can be indexed just like Python lists\n"
      ]
    },
    {
      "cell_type": "code",
      "metadata": {
        "id": "XI8aitwfz1t9"
      },
      "source": [
        "list = [2,3,4,5]\n",
        "list[:2]"
      ],
      "execution_count": null,
      "outputs": []
    },
    {
      "cell_type": "code",
      "metadata": {
        "id": "ehdV89d8mSQf"
      },
      "source": [
        "rank_4_tensor"
      ],
      "execution_count": null,
      "outputs": []
    },
    {
      "cell_type": "code",
      "metadata": {
        "id": "HTDpqFzRy7xo"
      },
      "source": [
        "#get the first 2 elements of each dimension\n",
        "rank_4_tensor[:2,:3,:3,:2]"
      ],
      "execution_count": null,
      "outputs": []
    },
    {
      "cell_type": "code",
      "metadata": {
        "id": "MmCnjwBozvp_"
      },
      "source": [
        "#get the first element from each dimension from each index except for the final one\n",
        "rank_4_tensor[:1,:1,:1,:]"
      ],
      "execution_count": null,
      "outputs": []
    },
    {
      "cell_type": "code",
      "metadata": {
        "id": "5d7_P_GZ0gVD"
      },
      "source": [
        "rank_4_tensor[:,:1,:1,:1]"
      ],
      "execution_count": null,
      "outputs": []
    },
    {
      "cell_type": "code",
      "metadata": {
        "id": "SrS2IOeA1R6K"
      },
      "source": [
        "# create a rank 2 tensor \n",
        "rank_2_tensor=tf.constant([[10,7],\n",
        "                          [3,4]])\n",
        "rank_2_tensor.ndim"
      ],
      "execution_count": null,
      "outputs": []
    },
    {
      "cell_type": "code",
      "metadata": {
        "id": "pCSlMmYq12Im"
      },
      "source": [
        "#get the last item of each of rank_2_tensor\n",
        "rank_2_tensor[:,-1]"
      ],
      "execution_count": null,
      "outputs": []
    },
    {
      "cell_type": "markdown",
      "metadata": {
        "id": "HosxfPd13aNr"
      },
      "source": [
        "### Add dimension"
      ]
    },
    {
      "cell_type": "code",
      "metadata": {
        "id": "lrFUXFH1oj9y"
      },
      "source": [
        "rank_2_tensor"
      ],
      "execution_count": null,
      "outputs": []
    },
    {
      "cell_type": "markdown",
      "metadata": {
        "id": "aUq0HXIDqsWN"
      },
      "source": [
        "#### `tf.newaxis`"
      ]
    },
    {
      "cell_type": "code",
      "metadata": {
        "id": "ynaU3bhE2RHC"
      },
      "source": [
        "#Insert a dimension at the end of rank_2_tensor\n",
        "rank_3_tensor1 = rank_2_tensor[...,tf.newaxis] # ... means all previous axis \n",
        "# or rank_3_tensor = rank_2_ tensor[:,:,tf.newaxis]\n",
        "# same as rank_2_tensor[:,:,tf.newaxis]\n",
        "rank_3_tensor"
      ],
      "execution_count": null,
      "outputs": []
    },
    {
      "cell_type": "markdown",
      "metadata": {
        "id": "PA-wABRaozts"
      },
      "source": [
        "The shape of rank_2_tensor is (2,2); after adding a dimension, shape is (2,2,1)"
      ]
    },
    {
      "cell_type": "code",
      "metadata": {
        "id": "c3bdGXpPq0eA"
      },
      "source": [
        "#Inset a dimen at the second axis\n",
        "rank_3_tensor2 = rank_2_tensor[:,tf.newaxis,:]\n",
        "rank_3_tensor2"
      ],
      "execution_count": null,
      "outputs": []
    },
    {
      "cell_type": "markdown",
      "metadata": {
        "id": "YJOlGWjfozrX"
      },
      "source": [
        "#### `tf.expand_dims`"
      ]
    },
    {
      "cell_type": "code",
      "metadata": {
        "id": "RtjaA6qZ2u7b"
      },
      "source": [
        "#alternative to tf.newaxis\n",
        "tf.expand_dims(rank_2_tensor,axis= -1) \n",
        "# \"-1\" means expand the final axis"
      ],
      "execution_count": null,
      "outputs": []
    },
    {
      "cell_type": "code",
      "metadata": {
        "id": "E58lYKMR2wOE"
      },
      "source": [
        "tf.expand_dims(rank_2_tensor,axis=0) \n",
        "# expand the 0-axis as the first axis"
      ],
      "execution_count": null,
      "outputs": []
    },
    {
      "cell_type": "code",
      "metadata": {
        "id": "_O1Ctaqv3iNp"
      },
      "source": [
        "tf.expand_dims(rank_2_tensor,axis=1)\n",
        "#expand the 1-axis which would be the second axis"
      ],
      "execution_count": null,
      "outputs": []
    },
    {
      "cell_type": "markdown",
      "metadata": {
        "id": "dnDpo4P3qWkD"
      },
      "source": [
        "## **21. Manipulating Tensors with Basic Operations**"
      ]
    },
    {
      "cell_type": "code",
      "metadata": {
        "id": "mvs9jH40tCiW"
      },
      "source": [
        "#add values to a tensor using the addition operator\n",
        "tensor = tf.constant([[10,7],[3,4]])\n",
        "tensor + 10"
      ],
      "execution_count": null,
      "outputs": []
    },
    {
      "cell_type": "code",
      "metadata": {
        "id": "EFJSZPCqtvhR"
      },
      "source": [
        "# Orignal tensor is unchanged\n",
        "tensor"
      ],
      "execution_count": null,
      "outputs": []
    },
    {
      "cell_type": "code",
      "metadata": {
        "id": "J_wQPP4QuA52"
      },
      "source": [
        "#Multiplication\n",
        "tensor * 10"
      ],
      "execution_count": null,
      "outputs": []
    },
    {
      "cell_type": "code",
      "metadata": {
        "id": "7oRc5HywuMqq"
      },
      "source": [
        "#Substraction\n",
        "tensor - 10"
      ],
      "execution_count": null,
      "outputs": []
    },
    {
      "cell_type": "code",
      "metadata": {
        "id": "lGEeagjkuQ7x"
      },
      "source": [
        "# tensorflow built-in function\n",
        "tf.multiply(tensor,10)"
      ],
      "execution_count": null,
      "outputs": []
    },
    {
      "cell_type": "markdown",
      "metadata": {
        "id": "LP9htsqOub7e"
      },
      "source": [
        "## **22. Matrix Mulitiplication  `tf.linalg.matmul` / `tf.matmul`**\n",
        "\n",
        "linalg => linaege algebra\n",
        "\n",
        "Two rules of matrix mutplication:\n",
        "1. The inner dimensions must match\n",
        "2. The resulting matrix has the shape of the outer dimensions\n",
        "\n",
        "E.g. TensorA = shape(4,3), TensorB=shape(3,2)\n",
        "Inner dimen of TensorA is 3, which matches the Inner dimen of TensorB\n",
        "the resulting matrix is (4,2)"
      ]
    },
    {
      "cell_type": "code",
      "metadata": {
        "id": "n8seUaP-tC31"
      },
      "source": [
        "# matrix multiplication in tensorlfow\n",
        "tensor"
      ],
      "execution_count": null,
      "outputs": []
    },
    {
      "cell_type": "code",
      "metadata": {
        "id": "t051j1qW7KOW"
      },
      "source": [
        "tf.matmul(tensor,tensor)"
      ],
      "execution_count": null,
      "outputs": []
    },
    {
      "cell_type": "code",
      "metadata": {
        "id": "1wXb7HG271ho"
      },
      "source": [
        "# use operation\n",
        "tensor * tensor"
      ],
      "execution_count": null,
      "outputs": []
    },
    {
      "cell_type": "code",
      "metadata": {
        "id": "OuRJW4e78Rrs"
      },
      "source": [
        "tensor_test1 = tf.constant([[1,2,5],[7,2,1],[3,3,3]])\n",
        "tensor_test2 = tf.constant([[3,5],[6,7],[1,8]])\n",
        "tf.matmul(tensor_test1,tensor_test2)"
      ],
      "execution_count": null,
      "outputs": []
    },
    {
      "cell_type": "code",
      "metadata": {
        "id": "n_6nGkZf9AO6"
      },
      "source": [
        "tensor_test1 * tensor_test2"
      ],
      "execution_count": null,
      "outputs": []
    },
    {
      "cell_type": "code",
      "metadata": {
        "id": "TA_IbLhG7XIx"
      },
      "source": [
        "# matrix mutliplication with Python operator \"@\"\n",
        "tensor_test1 @ tensor_test2"
      ],
      "execution_count": null,
      "outputs": []
    },
    {
      "cell_type": "code",
      "metadata": {
        "id": "0TJ8WEIl98oL"
      },
      "source": [
        "\n",
        "# try matrix multiply tensors of same shape\n",
        "# it doesn't work because the inner dimen is not matched\n",
        "tensor_test2 @ tensor_test2"
      ],
      "execution_count": null,
      "outputs": []
    },
    {
      "cell_type": "code",
      "metadata": {
        "id": "ClqfqvR5-lFz"
      },
      "source": [
        "tf.matmul(tensor_test2,tensor_test2)"
      ],
      "execution_count": null,
      "outputs": []
    },
    {
      "cell_type": "markdown",
      "metadata": {
        "id": "GNFqMeap-vcd"
      },
      "source": [
        ""
      ]
    },
    {
      "cell_type": "code",
      "metadata": {
        "id": "ESI0BkbxB0pq"
      },
      "source": [
        "tf.matmul(tf.ones([4,2]),tf.ones([2,3]))"
      ],
      "execution_count": null,
      "outputs": []
    },
    {
      "cell_type": "code",
      "metadata": {
        "id": "6jdhiyiOB4FC"
      },
      "source": [
        "# difference between transpose and reshape\n",
        "X = tf.constant([[1,2],[3,4],[5,6]])\n",
        "Y = tf.transpose(X)\n",
        "Z = tf.reshape(X,shape=(2,3))\n",
        "\n",
        "X,Y,Z"
      ],
      "execution_count": null,
      "outputs": []
    },
    {
      "cell_type": "markdown",
      "metadata": {
        "id": "LXWmFrjiDhBa"
      },
      "source": [
        "#### **The Dot Product**\n",
        "\n",
        "Matrix multiplication is also referred to as the dot product.\n",
        "\n",
        "you can perform matrix multiplication using:\n",
        "\n",
        "* `tf.matmul()`\n",
        "\n",
        "* `tf.tensordot()`\n",
        "\n",
        "* @"
      ]
    },
    {
      "cell_type": "code",
      "metadata": {
        "id": "id5MPtl6z1TB"
      },
      "source": [
        "# Perform the dot product on X and Y (requires X and Y are transposed)\n",
        "X = tf.constant([[1,2],[3,4],[5,6]])\n",
        "Y = tf.constant([[7,8],[9,10],[11,12]])\n",
        "\n",
        "tf.tensordot(tf.transpose(X),Y,axes=1)"
      ],
      "execution_count": null,
      "outputs": []
    },
    {
      "cell_type": "code",
      "metadata": {
        "id": "5sLXQ_Yp0lWD"
      },
      "source": [
        "tf.matmul(tf.transpose(X),Y)"
      ],
      "execution_count": null,
      "outputs": []
    },
    {
      "cell_type": "code",
      "metadata": {
        "id": "9WMSwnLE03Li"
      },
      "source": [
        "tf.tensordot()"
      ],
      "execution_count": null,
      "outputs": []
    },
    {
      "cell_type": "code",
      "metadata": {
        "id": "-3bwCt5u2MbC"
      },
      "source": [
        "# perform matrxi multiplication between X and Y (transposed)\n",
        "tf.matmul(X,tf.transpose(Y))"
      ],
      "execution_count": null,
      "outputs": []
    },
    {
      "cell_type": "code",
      "metadata": {
        "id": "z6_1RXn52VBy"
      },
      "source": [
        "#Perform matrix multiplication between X and Y (reshaped)\n",
        "tf.matmul(X,tf.reshape(Y,shape=(2,3)))"
      ],
      "execution_count": null,
      "outputs": []
    },
    {
      "cell_type": "code",
      "metadata": {
        "id": "JMQ0rNbG2ej-"
      },
      "source": [
        "# check the values of Y, reshape Y and transposed Y\n",
        "print(\"Normal Y:\")\n",
        "print(Y,\"\\n\")\n",
        "\n",
        "print(\"Y reshaped (2, 3):\")\n",
        "print(tf.reshape(Y,(2,3)),\"\\n\")\n",
        "\n",
        "print(\"Y transposed:\")\n",
        "print(tf.transpose(Y))"
      ],
      "execution_count": null,
      "outputs": []
    },
    {
      "cell_type": "markdown",
      "metadata": {
        "id": "oP5zB8nm29Is"
      },
      "source": [
        "Generally, when performaing matrix multiplication on two tensors and one of the axes doesn't line up, you will transpose (rather than reshape) one of the tensors to get satisfy the matrix multiplication rules."
      ]
    },
    {
      "cell_type": "markdown",
      "metadata": {
        "id": "jK7KOwrk4asW"
      },
      "source": [
        "## **25. Change Tensor Datatype**\n",
        "The reason of chaning dtype is that a 16 bit floating point types can run faste and use less memory"
      ]
    },
    {
      "cell_type": "code",
      "metadata": {
        "id": "gDieNDHN4t_r"
      },
      "source": [
        "# Create a new tensor with default datatype (float32)\n",
        "B = tf.constant([1.7,7.4])\n",
        "B.dtype"
      ],
      "execution_count": null,
      "outputs": []
    },
    {
      "cell_type": "code",
      "metadata": {
        "id": "eVeNybKY42i_"
      },
      "source": [
        "C = tf.constant([7,10])\n",
        "C.dtype"
      ],
      "execution_count": null,
      "outputs": []
    },
    {
      "cell_type": "code",
      "metadata": {
        "id": "cEWXEjUI47OO"
      },
      "source": [
        "# Change float32 to float16 (reduced precision)\n",
        "D = tf.cast(B,dtype=tf.float16)\n",
        "D"
      ],
      "execution_count": null,
      "outputs": []
    },
    {
      "cell_type": "code",
      "metadata": {
        "id": "DZOvOVO058tg"
      },
      "source": [
        "# change from int32 to float32\n",
        "E = tf.cast(C,dtype=tf.float32)\n",
        "E"
      ],
      "execution_count": null,
      "outputs": []
    },
    {
      "cell_type": "markdown",
      "metadata": {
        "id": "a2O4AHDN6b5z"
      },
      "source": [
        "## **26.Aggregating Tensors**\n",
        "\n",
        "Aggregating tensors = condensing them from multiple values down to a smaller amount of values"
      ]
    },
    {
      "cell_type": "code",
      "metadata": {
        "id": "Xr8L7a0D_nuW"
      },
      "source": [
        "import numpy as np"
      ],
      "execution_count": null,
      "outputs": []
    },
    {
      "cell_type": "code",
      "metadata": {
        "id": "b6LqOKqt6mE4"
      },
      "source": [
        "# get the absolute values\n",
        "D = tf.constant([-7,-10])\n",
        "D"
      ],
      "execution_count": null,
      "outputs": []
    },
    {
      "cell_type": "code",
      "metadata": {
        "id": "jAQj4kuL9TFe"
      },
      "source": [
        "# get the absolute values\n",
        "tf.abs(D)"
      ],
      "execution_count": null,
      "outputs": []
    },
    {
      "cell_type": "code",
      "metadata": {
        "id": "m09CDCbT_22L"
      },
      "source": [
        "E= tf.constant(np.random.randint(0,100,size=50))\n",
        "E"
      ],
      "execution_count": null,
      "outputs": []
    },
    {
      "cell_type": "code",
      "metadata": {
        "id": "63pqICZ09Xom"
      },
      "source": [
        "# get the minimum\n",
        "Min = tf.math.reduce_min(E)\n",
        "Min"
      ],
      "execution_count": null,
      "outputs": []
    },
    {
      "cell_type": "code",
      "metadata": {
        "id": "J6B8KKRC9nkI"
      },
      "source": [
        "#get the maximum\n",
        "Max = tf.math.reduce_max(E)\n",
        "Max"
      ],
      "execution_count": null,
      "outputs": []
    },
    {
      "cell_type": "code",
      "metadata": {
        "id": "NkmfoK-i9pfQ"
      },
      "source": [
        "# get the mean\n",
        "Mean = tf.cast(tf.math.reduce_mean(E),dtype=tf.float32)\n",
        "Mean"
      ],
      "execution_count": null,
      "outputs": []
    },
    {
      "cell_type": "code",
      "metadata": {
        "id": "m5R6rXPr9rEG"
      },
      "source": [
        "# get the sum\n",
        "Sum = tf.math.reduce_sum(E)\n",
        "Sum"
      ],
      "execution_count": null,
      "outputs": []
    },
    {
      "cell_type": "code",
      "metadata": {
        "id": "JKNP_H96A9N3"
      },
      "source": [
        "import tensorflow_probability as tfp"
      ],
      "execution_count": null,
      "outputs": []
    },
    {
      "cell_type": "code",
      "metadata": {
        "id": "0vka4ZyB9u4H"
      },
      "source": [
        "VAR = tfp.stats.variance(E)\n",
        "VAR"
      ],
      "execution_count": null,
      "outputs": []
    },
    {
      "cell_type": "code",
      "metadata": {
        "id": "6PzO4NdPBzqZ"
      },
      "source": [
        "# for math method, dtype needs to be float\n",
        "VAR2 = tf.math.reduce_variance(tf.cast(E,dtype=tf.float32))\n",
        "VAR2"
      ],
      "execution_count": null,
      "outputs": []
    },
    {
      "cell_type": "code",
      "metadata": {
        "id": "4r4H44djAZZR"
      },
      "source": [
        "STD = tf.math.reduce_std(tf.cast(E,dtype=tf.float32))\n",
        "STD"
      ],
      "execution_count": null,
      "outputs": []
    },
    {
      "cell_type": "markdown",
      "metadata": {
        "id": "Waiijy6nAwvi"
      },
      "source": [
        "### Find the postional maximum and minimum"
      ]
    },
    {
      "cell_type": "code",
      "metadata": {
        "id": "PuRGkRZ61rc3"
      },
      "source": [
        "# create a new tensor for finding positional min and max\n",
        "tf.random.set_seed(42)\n",
        "F = tf.random.uniform(shape=[50])\n",
        "F"
      ],
      "execution_count": null,
      "outputs": []
    },
    {
      "cell_type": "code",
      "metadata": {
        "id": "BF-bPJVu2LkT"
      },
      "source": [
        "# find the positional maximum\n",
        "tf.argmax(F)"
      ],
      "execution_count": null,
      "outputs": []
    },
    {
      "cell_type": "code",
      "metadata": {
        "id": "9MIAPzDh2sLa"
      },
      "source": [
        "# Index on out largest value postion\n",
        "F[tf.argmax(F)]"
      ],
      "execution_count": null,
      "outputs": []
    },
    {
      "cell_type": "code",
      "metadata": {
        "id": "YhSBb8ln20Sb"
      },
      "source": [
        "#FInd the max value of F\n",
        "tf.reduce_max(F)"
      ],
      "execution_count": null,
      "outputs": []
    },
    {
      "cell_type": "code",
      "metadata": {
        "id": "inY0Cvpw25fM"
      },
      "source": [
        "# Check for equality\n",
        "F[tf.argmax(F)] == tf.reduce_max(F)"
      ],
      "execution_count": null,
      "outputs": []
    },
    {
      "cell_type": "code",
      "metadata": {
        "id": "LYu9NJfA4pXW"
      },
      "source": [
        "# find postional minimum\n",
        "tf.argmin(F)"
      ],
      "execution_count": null,
      "outputs": []
    },
    {
      "cell_type": "code",
      "metadata": {
        "id": "og1E5MNw5BnX"
      },
      "source": [
        "# find min value\n",
        "F[tf.argmin(F)]"
      ],
      "execution_count": null,
      "outputs": []
    },
    {
      "cell_type": "markdown",
      "metadata": {
        "id": "DZAm5DUX5jRR"
      },
      "source": [
        "## 29. Squeezing a Tensor ( removing all single dimensions / size 1)"
      ]
    },
    {
      "cell_type": "code",
      "metadata": {
        "colab": {
          "base_uri": "https://localhost:8080/"
        },
        "id": "-qdHz1tZ50FT",
        "outputId": "8735df0d-798e-4366-c567-511685fb230e"
      },
      "source": [
        "# create a tensor \n",
        "tf.random.set_seed(42)\n",
        "G = tf.constant(tf.random.uniform(shape=[50]),shape=(1,1,1,1,50))\n",
        "G"
      ],
      "execution_count": 16,
      "outputs": [
        {
          "output_type": "execute_result",
          "data": {
            "text/plain": [
              "<tf.Tensor: shape=(1, 1, 1, 1, 50), dtype=float32, numpy=\n",
              "array([[[[[0.6645621 , 0.44100678, 0.3528825 , 0.46448255, 0.03366041,\n",
              "           0.68467236, 0.74011743, 0.8724445 , 0.22632635, 0.22319686,\n",
              "           0.3103881 , 0.7223358 , 0.13318717, 0.5480639 , 0.5746088 ,\n",
              "           0.8996835 , 0.00946367, 0.5212307 , 0.6345445 , 0.1993283 ,\n",
              "           0.72942245, 0.54583454, 0.10756552, 0.6767061 , 0.6602763 ,\n",
              "           0.33695042, 0.60141766, 0.21062577, 0.8527372 , 0.44062173,\n",
              "           0.9485276 , 0.23752594, 0.81179297, 0.5263394 , 0.494308  ,\n",
              "           0.21612847, 0.8457197 , 0.8718841 , 0.3083862 , 0.6868038 ,\n",
              "           0.23764038, 0.7817228 , 0.9671384 , 0.06870162, 0.79873943,\n",
              "           0.66028714, 0.5871513 , 0.16461694, 0.7381023 , 0.32054043]]]]],\n",
              "      dtype=float32)>"
            ]
          },
          "metadata": {
            "tags": []
          },
          "execution_count": 16
        }
      ]
    },
    {
      "cell_type": "code",
      "metadata": {
        "colab": {
          "base_uri": "https://localhost:8080/"
        },
        "id": "lRY_DCMQ59kY",
        "outputId": "0740d8cc-260c-473d-e85e-55fd30df19e7"
      },
      "source": [
        "G.shape"
      ],
      "execution_count": 17,
      "outputs": [
        {
          "output_type": "execute_result",
          "data": {
            "text/plain": [
              "TensorShape([1, 1, 1, 1, 50])"
            ]
          },
          "metadata": {
            "tags": []
          },
          "execution_count": 17
        }
      ]
    },
    {
      "cell_type": "code",
      "metadata": {
        "colab": {
          "base_uri": "https://localhost:8080/"
        },
        "id": "toUrliew6MBb",
        "outputId": "07b9ba6c-b5b8-4f21-897a-a27b376c48a3"
      },
      "source": [
        "G_squeezed = tf.squeeze(G)\n",
        "G_squeezed, G_squeezed.shape"
      ],
      "execution_count": 18,
      "outputs": [
        {
          "output_type": "execute_result",
          "data": {
            "text/plain": [
              "(<tf.Tensor: shape=(50,), dtype=float32, numpy=\n",
              " array([0.6645621 , 0.44100678, 0.3528825 , 0.46448255, 0.03366041,\n",
              "        0.68467236, 0.74011743, 0.8724445 , 0.22632635, 0.22319686,\n",
              "        0.3103881 , 0.7223358 , 0.13318717, 0.5480639 , 0.5746088 ,\n",
              "        0.8996835 , 0.00946367, 0.5212307 , 0.6345445 , 0.1993283 ,\n",
              "        0.72942245, 0.54583454, 0.10756552, 0.6767061 , 0.6602763 ,\n",
              "        0.33695042, 0.60141766, 0.21062577, 0.8527372 , 0.44062173,\n",
              "        0.9485276 , 0.23752594, 0.81179297, 0.5263394 , 0.494308  ,\n",
              "        0.21612847, 0.8457197 , 0.8718841 , 0.3083862 , 0.6868038 ,\n",
              "        0.23764038, 0.7817228 , 0.9671384 , 0.06870162, 0.79873943,\n",
              "        0.66028714, 0.5871513 , 0.16461694, 0.7381023 , 0.32054043],\n",
              "       dtype=float32)>, TensorShape([50]))"
            ]
          },
          "metadata": {
            "tags": []
          },
          "execution_count": 18
        }
      ]
    },
    {
      "cell_type": "markdown",
      "metadata": {
        "id": "JRpSJJJv6RSH"
      },
      "source": [
        "## **30. One-Hot Encoding Tensors** / Dummy values"
      ]
    },
    {
      "cell_type": "code",
      "metadata": {
        "colab": {
          "base_uri": "https://localhost:8080/"
        },
        "id": "L5Zru5g_brw4",
        "outputId": "5b909b96-2bc2-4906-cca2-701a7d5e8ef3"
      },
      "source": [
        "# Create a lits tof indices\n",
        "some_list = [0,1,2,3]\n",
        "\n",
        "# One hot encode out list of inidces\n",
        "tf.one_hot(some_list, depth=4)"
      ],
      "execution_count": 20,
      "outputs": [
        {
          "output_type": "execute_result",
          "data": {
            "text/plain": [
              "<tf.Tensor: shape=(4, 4), dtype=float32, numpy=\n",
              "array([[1., 0., 0., 0.],\n",
              "       [0., 1., 0., 0.],\n",
              "       [0., 0., 1., 0.],\n",
              "       [0., 0., 0., 1.]], dtype=float32)>"
            ]
          },
          "metadata": {
            "tags": []
          },
          "execution_count": 20
        }
      ]
    },
    {
      "cell_type": "code",
      "metadata": {
        "colab": {
          "base_uri": "https://localhost:8080/"
        },
        "id": "285I4cd2b_0G",
        "outputId": "981eaf45-f3ba-4c3e-c51e-fb0898848dae"
      },
      "source": [
        "# Specify custom values for one hot encoding\n",
        "tf.one_hot(some_list,depth=4, on_value=\"2\",off_value=\"3\")"
      ],
      "execution_count": 21,
      "outputs": [
        {
          "output_type": "execute_result",
          "data": {
            "text/plain": [
              "<tf.Tensor: shape=(4, 4), dtype=string, numpy=\n",
              "array([[b'2', b'3', b'3', b'3'],\n",
              "       [b'3', b'2', b'3', b'3'],\n",
              "       [b'3', b'3', b'2', b'3'],\n",
              "       [b'3', b'3', b'3', b'2']], dtype=object)>"
            ]
          },
          "metadata": {
            "tags": []
          },
          "execution_count": 21
        }
      ]
    },
    {
      "cell_type": "markdown",
      "metadata": {
        "id": "K24hz7CkcMAt"
      },
      "source": [
        "## **31.Othe Math functions**\n",
        "Suqaring,log,square root"
      ]
    },
    {
      "cell_type": "code",
      "metadata": {
        "colab": {
          "base_uri": "https://localhost:8080/"
        },
        "id": "6BisIQ2dctrU",
        "outputId": "3d066469-b706-4925-e0c8-fd738d57f9cd"
      },
      "source": [
        "# Create tensor\n",
        "H = tf.range(1,10)\n",
        "H"
      ],
      "execution_count": 22,
      "outputs": [
        {
          "output_type": "execute_result",
          "data": {
            "text/plain": [
              "<tf.Tensor: shape=(9,), dtype=int32, numpy=array([1, 2, 3, 4, 5, 6, 7, 8, 9], dtype=int32)>"
            ]
          },
          "metadata": {
            "tags": []
          },
          "execution_count": 22
        }
      ]
    },
    {
      "cell_type": "code",
      "metadata": {
        "colab": {
          "base_uri": "https://localhost:8080/"
        },
        "id": "a_UAep7jc4Jh",
        "outputId": "3f925cc2-0c53-46b6-a713-7e633113b95e"
      },
      "source": [
        "# square it\n",
        "tf.square(H)"
      ],
      "execution_count": 23,
      "outputs": [
        {
          "output_type": "execute_result",
          "data": {
            "text/plain": [
              "<tf.Tensor: shape=(9,), dtype=int32, numpy=array([ 1,  4,  9, 16, 25, 36, 49, 64, 81], dtype=int32)>"
            ]
          },
          "metadata": {
            "tags": []
          },
          "execution_count": 23
        }
      ]
    },
    {
      "cell_type": "code",
      "metadata": {
        "colab": {
          "base_uri": "https://localhost:8080/"
        },
        "id": "15-m3LWHc8Dh",
        "outputId": "4e7b5136-c7d9-4eba-f7bf-e714282f90d3"
      },
      "source": [
        "# square root\n",
        "tf.sqrt(tf.cast(H,dtype=tf.float32))"
      ],
      "execution_count": 27,
      "outputs": [
        {
          "output_type": "execute_result",
          "data": {
            "text/plain": [
              "<tf.Tensor: shape=(9,), dtype=float32, numpy=\n",
              "array([0.99999994, 1.4142134 , 1.7320508 , 1.9999999 , 2.236068  ,\n",
              "       2.4494896 , 2.6457512 , 2.8284268 , 3.        ], dtype=float32)>"
            ]
          },
          "metadata": {
            "tags": []
          },
          "execution_count": 27
        }
      ]
    },
    {
      "cell_type": "code",
      "metadata": {
        "colab": {
          "base_uri": "https://localhost:8080/"
        },
        "id": "o_QEDspcdAqj",
        "outputId": "669599c6-d923-47aa-e2a6-ec7f7296f7f6"
      },
      "source": [
        "# log\n",
        "tf.math.log(tf.cast(H,dtype=tf.float32))"
      ],
      "execution_count": 30,
      "outputs": [
        {
          "output_type": "execute_result",
          "data": {
            "text/plain": [
              "<tf.Tensor: shape=(9,), dtype=float32, numpy=\n",
              "array([0.       , 0.6931472, 1.0986123, 1.3862944, 1.609438 , 1.7917595,\n",
              "       1.9459102, 2.0794415, 2.1972246], dtype=float32)>"
            ]
          },
          "metadata": {
            "tags": []
          },
          "execution_count": 30
        }
      ]
    },
    {
      "cell_type": "markdown",
      "metadata": {
        "id": "oxan-gbzdWQm"
      },
      "source": [
        "## **32.Tensors and Numpy**\n",
        "\n",
        "TensorFlow interacts beautifully with NumPy arrays.\n",
        "\n",
        "Note: one of the differents betweeb tf and np is that tf tensor can be run on a GPU or TPU for faster numerical processing."
      ]
    },
    {
      "cell_type": "code",
      "metadata": {
        "id": "iCoXm-N7eHtD"
      },
      "source": [
        "import numpy as np"
      ],
      "execution_count": 32,
      "outputs": []
    },
    {
      "cell_type": "code",
      "metadata": {
        "colab": {
          "base_uri": "https://localhost:8080/"
        },
        "id": "i4xWeVMAdwlI",
        "outputId": "b0c20da1-38a4-412e-c01d-27d1b82845bd"
      },
      "source": [
        "# Create tensor directly from a numpy array\n",
        "J=tf.constant(np.array([3.,7.,10.]))\n",
        "J"
      ],
      "execution_count": 34,
      "outputs": [
        {
          "output_type": "execute_result",
          "data": {
            "text/plain": [
              "<tf.Tensor: shape=(3,), dtype=float64, numpy=array([ 3.,  7., 10.])>"
            ]
          },
          "metadata": {
            "tags": []
          },
          "execution_count": 34
        }
      ]
    },
    {
      "cell_type": "code",
      "metadata": {
        "colab": {
          "base_uri": "https://localhost:8080/"
        },
        "id": "T4HLb-PceEWS",
        "outputId": "7202280b-8c61-4de1-f354-d906de627bc2"
      },
      "source": [
        "# convert tensor backto numpy array\n",
        "np.array(J),type(np.array(J))"
      ],
      "execution_count": 35,
      "outputs": [
        {
          "output_type": "execute_result",
          "data": {
            "text/plain": [
              "(array([ 3.,  7., 10.]), numpy.ndarray)"
            ]
          },
          "metadata": {
            "tags": []
          },
          "execution_count": 35
        }
      ]
    },
    {
      "cell_type": "code",
      "metadata": {
        "colab": {
          "base_uri": "https://localhost:8080/"
        },
        "id": "EAi1w5tKeUbr",
        "outputId": "af828d08-5986-4b38-8909-708991543fb8"
      },
      "source": [
        "# Convert tensor J to a numpy array\n",
        "J.numpy(), type(J.numpy())"
      ],
      "execution_count": 36,
      "outputs": [
        {
          "output_type": "execute_result",
          "data": {
            "text/plain": [
              "(array([ 3.,  7., 10.]), numpy.ndarray)"
            ]
          },
          "metadata": {
            "tags": []
          },
          "execution_count": 36
        }
      ]
    },
    {
      "cell_type": "code",
      "metadata": {
        "colab": {
          "base_uri": "https://localhost:8080/"
        },
        "id": "UtYqYQ58efUn",
        "outputId": "63993a24-40f3-4498-c7ac-712088869912"
      },
      "source": [
        "# the default types of each are slightly different\n",
        "numpy_J = tf.constant(np.array([3.,7.,10.]))\n",
        "tensor_J = tf.constant([3.,7.,10.])\n",
        "\n",
        "# check the dtypes\n",
        "numpy_J.dtype, tensor_J.dtype"
      ],
      "execution_count": 37,
      "outputs": [
        {
          "output_type": "execute_result",
          "data": {
            "text/plain": [
              "(tf.float64, tf.float32)"
            ]
          },
          "metadata": {
            "tags": []
          },
          "execution_count": 37
        }
      ]
    },
    {
      "cell_type": "markdown",
      "metadata": {
        "id": "WoVE2GhVe8av"
      },
      "source": [
        "numpy create float 63 type, and tensor create float 32 type."
      ]
    },
    {
      "cell_type": "markdown",
      "metadata": {
        "id": "updq8YDtfHEp"
      },
      "source": [
        "## **32. Finding Access to GPUs**"
      ]
    },
    {
      "cell_type": "code",
      "metadata": {
        "colab": {
          "base_uri": "https://localhost:8080/"
        },
        "id": "bOuofWPif1V_",
        "outputId": "11e59735-ccda-4b37-ee03-ed927ba4017a"
      },
      "source": [
        "tf.config.list_physical_devices()"
      ],
      "execution_count": 39,
      "outputs": [
        {
          "output_type": "execute_result",
          "data": {
            "text/plain": [
              "[PhysicalDevice(name='/physical_device:CPU:0', device_type='CPU')]"
            ]
          },
          "metadata": {
            "tags": []
          },
          "execution_count": 39
        }
      ]
    },
    {
      "cell_type": "markdown",
      "metadata": {
        "id": "I0DtcxvygFL8"
      },
      "source": [
        "Right now we use CPU to process, but GPU/TCU is much faster"
      ]
    },
    {
      "cell_type": "code",
      "metadata": {
        "colab": {
          "base_uri": "https://localhost:8080/"
        },
        "id": "xw1Zay19gUql",
        "outputId": "89e0bfb4-c266-451f-a346-5368e9452aba"
      },
      "source": [
        "import tensorflow as tf\n",
        "tf.config.list_physical_devices()"
      ],
      "execution_count": 1,
      "outputs": [
        {
          "output_type": "execute_result",
          "data": {
            "text/plain": [
              "[PhysicalDevice(name='/physical_device:CPU:0', device_type='CPU'),\n",
              " PhysicalDevice(name='/physical_device:GPU:0', device_type='GPU')]"
            ]
          },
          "metadata": {
            "tags": []
          },
          "execution_count": 1
        }
      ]
    },
    {
      "cell_type": "markdown",
      "metadata": {
        "id": "En8BhejGg57m"
      },
      "source": [
        "There is a option to choose GPU."
      ]
    },
    {
      "cell_type": "code",
      "metadata": {
        "colab": {
          "base_uri": "https://localhost:8080/"
        },
        "id": "Ssa0FS28g9op",
        "outputId": "0982015f-e342-4b69-ac65-6f7894f4daeb"
      },
      "source": [
        "# chose GPU\n",
        "tf.config.list_physical_devices(\"GPU\")"
      ],
      "execution_count": 2,
      "outputs": [
        {
          "output_type": "execute_result",
          "data": {
            "text/plain": [
              "[PhysicalDevice(name='/physical_device:GPU:0', device_type='GPU')]"
            ]
          },
          "metadata": {
            "tags": []
          },
          "execution_count": 2
        }
      ]
    },
    {
      "cell_type": "code",
      "metadata": {
        "colab": {
          "base_uri": "https://localhost:8080/"
        },
        "id": "b_gP7cg0hJPy",
        "outputId": "92139a8f-2b09-4c52-c370-fce11b6cc391"
      },
      "source": [
        "# check what type of GPU you use\n",
        "!nvidia-smi"
      ],
      "execution_count": 3,
      "outputs": [
        {
          "output_type": "stream",
          "text": [
            "Fri Jul 30 17:45:52 2021       \n",
            "+-----------------------------------------------------------------------------+\n",
            "| NVIDIA-SMI 470.42.01    Driver Version: 460.32.03    CUDA Version: 11.2     |\n",
            "|-------------------------------+----------------------+----------------------+\n",
            "| GPU  Name        Persistence-M| Bus-Id        Disp.A | Volatile Uncorr. ECC |\n",
            "| Fan  Temp  Perf  Pwr:Usage/Cap|         Memory-Usage | GPU-Util  Compute M. |\n",
            "|                               |                      |               MIG M. |\n",
            "|===============================+======================+======================|\n",
            "|   0  Tesla T4            Off  | 00000000:00:04.0 Off |                    0 |\n",
            "| N/A   46C    P8     9W /  70W |      3MiB / 15109MiB |      0%      Default |\n",
            "|                               |                      |                  N/A |\n",
            "+-------------------------------+----------------------+----------------------+\n",
            "                                                                               \n",
            "+-----------------------------------------------------------------------------+\n",
            "| Processes:                                                                  |\n",
            "|  GPU   GI   CI        PID   Type   Process name                  GPU Memory |\n",
            "|        ID   ID                                                   Usage      |\n",
            "|=============================================================================|\n",
            "|  No running processes found                                                 |\n",
            "+-----------------------------------------------------------------------------+\n"
          ],
          "name": "stdout"
        }
      ]
    },
    {
      "cell_type": "markdown",
      "metadata": {
        "id": "LSK9AFBuhb2e"
      },
      "source": [
        "🔑 Note: If you have access to a CUDA-enabled GPU, TensorFlow will automatically use it whenever possible."
      ]
    },
    {
      "cell_type": "code",
      "metadata": {
        "id": "1UtDc95SizGg"
      },
      "source": [
        ""
      ],
      "execution_count": null,
      "outputs": []
    }
  ]
}