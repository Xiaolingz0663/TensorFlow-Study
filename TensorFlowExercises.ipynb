{
  "nbformat": 4,
  "nbformat_minor": 0,
  "metadata": {
    "colab": {
      "name": "TensorFlowExercises.ipynb",
      "provenance": [],
      "authorship_tag": "ABX9TyOAybR53AqPi7lNRx4L5y+g",
      "include_colab_link": true
    },
    "kernelspec": {
      "name": "python3",
      "display_name": "Python 3"
    },
    "language_info": {
      "name": "python"
    }
  },
  "cells": [
    {
      "cell_type": "markdown",
      "metadata": {
        "id": "view-in-github",
        "colab_type": "text"
      },
      "source": [
        "<a href=\"https://colab.research.google.com/github/Xiaolingz0663/TensorFlow-Study/blob/main/TensorFlowExercises.ipynb\" target=\"_parent\"><img src=\"https://colab.research.google.com/assets/colab-badge.svg\" alt=\"Open In Colab\"/></a>"
      ]
    },
    {
      "cell_type": "markdown",
      "metadata": {
        "id": "zJcSbRdv4jP1"
      },
      "source": [
        "## 🛠 00. TensorFlow Fundamentals Exercises"
      ]
    },
    {
      "cell_type": "markdown",
      "metadata": {
        "id": "RzYAWcAxkSaZ"
      },
      "source": [
        "1. Create a vector, scalar, matrix and tensor with values of your choosing using tf.constant()."
      ]
    },
    {
      "cell_type": "code",
      "metadata": {
        "colab": {
          "base_uri": "https://localhost:8080/"
        },
        "id": "Nndky5i2zPMi",
        "outputId": "4871ed79-85bc-445f-d212-7e2fe710ffc4"
      },
      "source": [
        "import tensorflow as tf\n",
        "print(tf.__version__)"
      ],
      "execution_count": 1,
      "outputs": [
        {
          "output_type": "stream",
          "text": [
            "2.5.0\n"
          ],
          "name": "stdout"
        }
      ]
    },
    {
      "cell_type": "code",
      "metadata": {
        "colab": {
          "base_uri": "https://localhost:8080/"
        },
        "id": "6CjSmL3VzmRn",
        "outputId": "0a16d1fa-46f4-448e-9b26-c71c7cc84c62"
      },
      "source": [
        "scalar = tf.constant(7)\n",
        "scalar, scalar.ndim"
      ],
      "execution_count": 6,
      "outputs": [
        {
          "output_type": "execute_result",
          "data": {
            "text/plain": [
              "(<tf.Tensor: shape=(), dtype=int32, numpy=7>, 0)"
            ]
          },
          "metadata": {
            "tags": []
          },
          "execution_count": 6
        }
      ]
    },
    {
      "cell_type": "code",
      "metadata": {
        "colab": {
          "base_uri": "https://localhost:8080/"
        },
        "id": "J6coYvZhzvh-",
        "outputId": "7a87e6fb-b4e7-49d8-b232-d04a23645517"
      },
      "source": [
        "vector = tf.constant([0,1])\n",
        "vector, vector.ndim"
      ],
      "execution_count": 7,
      "outputs": [
        {
          "output_type": "execute_result",
          "data": {
            "text/plain": [
              "(<tf.Tensor: shape=(2,), dtype=int32, numpy=array([0, 1], dtype=int32)>, 1)"
            ]
          },
          "metadata": {
            "tags": []
          },
          "execution_count": 7
        }
      ]
    },
    {
      "cell_type": "code",
      "metadata": {
        "colab": {
          "base_uri": "https://localhost:8080/"
        },
        "id": "aGTPnnQsz1sV",
        "outputId": "e4a1ed56-7f8c-4e11-a906-f2bbe2ff4234"
      },
      "source": [
        "matrix = tf.constant([[1,2],[3,4]])\n",
        "matrix, matrix.ndim"
      ],
      "execution_count": 8,
      "outputs": [
        {
          "output_type": "execute_result",
          "data": {
            "text/plain": [
              "(<tf.Tensor: shape=(2, 2), dtype=int32, numpy=\n",
              " array([[1, 2],\n",
              "        [3, 4]], dtype=int32)>, 2)"
            ]
          },
          "metadata": {
            "tags": []
          },
          "execution_count": 8
        }
      ]
    },
    {
      "cell_type": "code",
      "metadata": {
        "colab": {
          "base_uri": "https://localhost:8080/"
        },
        "id": "yonYbrpX0AkI",
        "outputId": "1d0cac3d-8294-4933-9806-00f6260c1b80"
      },
      "source": [
        "tensor = tf.constant([[[1,2],[3,4]],\n",
        "                      [[5,6],[7,8]],\n",
        "                      [[9,10],[11,12]]])\n",
        "tensor, tensor.ndim"
      ],
      "execution_count": 9,
      "outputs": [
        {
          "output_type": "execute_result",
          "data": {
            "text/plain": [
              "(<tf.Tensor: shape=(3, 2, 2), dtype=int32, numpy=\n",
              " array([[[ 1,  2],\n",
              "         [ 3,  4]],\n",
              " \n",
              "        [[ 5,  6],\n",
              "         [ 7,  8]],\n",
              " \n",
              "        [[ 9, 10],\n",
              "         [11, 12]]], dtype=int32)>, 3)"
            ]
          },
          "metadata": {
            "tags": []
          },
          "execution_count": 9
        }
      ]
    },
    {
      "cell_type": "markdown",
      "metadata": {
        "id": "9NlYZ_vL0ggc"
      },
      "source": [
        "2.Find the shape, rank and size of the tensors you created in 1."
      ]
    },
    {
      "cell_type": "code",
      "metadata": {
        "colab": {
          "base_uri": "https://localhost:8080/"
        },
        "id": "DEoiM0nq0oL9",
        "outputId": "d38f46c2-36cb-43d0-84c1-e0d3cc0530c9"
      },
      "source": [
        "tensor.shape, tensor.ndim,tf.size(tensor)"
      ],
      "execution_count": 11,
      "outputs": [
        {
          "output_type": "execute_result",
          "data": {
            "text/plain": [
              "(TensorShape([3, 2, 2]), 3, <tf.Tensor: shape=(), dtype=int32, numpy=12>)"
            ]
          },
          "metadata": {
            "tags": []
          },
          "execution_count": 11
        }
      ]
    },
    {
      "cell_type": "markdown",
      "metadata": {
        "id": "VvlRyOja0taW"
      },
      "source": [
        "3. Create two tensors containing random values between 0 and 1 with shape [5, 300].\n"
      ]
    },
    {
      "cell_type": "code",
      "metadata": {
        "colab": {
          "base_uri": "https://localhost:8080/"
        },
        "id": "6rbcPzCa08yl",
        "outputId": "fef57078-a538-41ff-e236-d63c030b1996"
      },
      "source": [
        "A = tf.random.Generator.from_seed(42)\n",
        "A = A.normal(shape=(5,300))\n",
        "A"
      ],
      "execution_count": 12,
      "outputs": [
        {
          "output_type": "execute_result",
          "data": {
            "text/plain": [
              "<tf.Tensor: shape=(5, 300), dtype=float32, numpy=\n",
              "array([[-0.7565803 , -0.06854702,  0.07595026, ..., -1.071834  ,\n",
              "        -1.0722276 , -0.00586287],\n",
              "       [-0.88051033, -0.32426047, -2.4847078 , ...,  0.16512105,\n",
              "         1.155565  , -0.10707551],\n",
              "       [-1.5306779 , -0.86202925, -0.16359143, ...,  0.34288085,\n",
              "         1.216793  , -1.24293   ],\n",
              "       [ 0.84324265, -0.23379943,  0.4276398 , ..., -1.0428714 ,\n",
              "        -0.73970354,  0.0177109 ],\n",
              "       [ 0.04888754, -0.66408694, -1.787366  , ...,  0.1947453 ,\n",
              "         0.5656089 ,  0.18439196]], dtype=float32)>"
            ]
          },
          "metadata": {
            "tags": []
          },
          "execution_count": 12
        }
      ]
    },
    {
      "cell_type": "code",
      "metadata": {
        "colab": {
          "base_uri": "https://localhost:8080/"
        },
        "id": "4w33ToJr1hJt",
        "outputId": "bd054f3d-0213-4adc-cd07-5d8a9620a1f9"
      },
      "source": [
        "B = tf.random.Generator.from_seed(32)\n",
        "B = B.normal(shape=(5,300))\n",
        "B"
      ],
      "execution_count": 13,
      "outputs": [
        {
          "output_type": "execute_result",
          "data": {
            "text/plain": [
              "<tf.Tensor: shape=(5, 300), dtype=float32, numpy=\n",
              "array([[ 0.7901182 ,  1.585549  ,  0.4356279 , ...,  0.54241335,\n",
              "        -0.25226593,  0.43689874],\n",
              "       [-1.5446119 , -0.9279166 ,  1.5999255 , ..., -0.448121  ,\n",
              "         0.3995735 , -2.1588635 ],\n",
              "       [-0.16122076, -1.040813  ,  0.44564843, ...,  1.5315233 ,\n",
              "         0.51527184, -0.76588607],\n",
              "       [ 1.6272374 ,  0.04138071, -0.10412996, ...,  2.6236527 ,\n",
              "        -1.2969457 ,  0.09658346],\n",
              "       [-0.5660935 , -0.25495797,  0.93636596, ...,  0.23323336,\n",
              "        -0.04431101, -0.31474254]], dtype=float32)>"
            ]
          },
          "metadata": {
            "tags": []
          },
          "execution_count": 13
        }
      ]
    },
    {
      "cell_type": "markdown",
      "metadata": {
        "id": "bGM8JNiK1rNt"
      },
      "source": [
        "4, Multiply the two tensors you created in 3 using matrix multiplication.\n"
      ]
    },
    {
      "cell_type": "code",
      "metadata": {
        "colab": {
          "base_uri": "https://localhost:8080/"
        },
        "id": "_lJWAwQU1vtc",
        "outputId": "abd3e441-0d31-4951-c0fa-9a8aaa7bfc85"
      },
      "source": [
        "tf.matmul(A,tf.transpose(B))"
      ],
      "execution_count": 16,
      "outputs": [
        {
          "output_type": "execute_result",
          "data": {
            "text/plain": [
              "<tf.Tensor: shape=(5, 5), dtype=float32, numpy=\n",
              "array([[ 26.850746  ,  -7.4877777 ,  24.129826  ,   7.994731  ,\n",
              "        -17.440565  ],\n",
              "       [ -5.832143  ,   9.289821  ,  -6.7012367 ,  24.065567  ,\n",
              "        -12.137888  ],\n",
              "       [ -4.800009  ,   0.04769087,  -4.496765  , -26.365547  ,\n",
              "         11.644641  ],\n",
              "       [  5.2373424 ,  33.045654  , -22.157877  ,  -6.7776356 ,\n",
              "        -43.803703  ],\n",
              "       [-15.45096   ,  -3.8501692 ,  38.412575  ,  10.450214  ,\n",
              "          0.73112726]], dtype=float32)>"
            ]
          },
          "metadata": {
            "tags": []
          },
          "execution_count": 16
        }
      ]
    },
    {
      "cell_type": "markdown",
      "metadata": {
        "id": "wuAm2bvF15O1"
      },
      "source": [
        "5. Multiply the two tensors you created in 3 using dot product.\n"
      ]
    },
    {
      "cell_type": "code",
      "metadata": {
        "colab": {
          "base_uri": "https://localhost:8080/"
        },
        "id": "-e1fS3zQ2ERn",
        "outputId": "301e4e35-ad16-4040-e69c-43539f54039c"
      },
      "source": [
        "tf.tensordot(A,tf.transpose(B),axes=1)"
      ],
      "execution_count": 18,
      "outputs": [
        {
          "output_type": "execute_result",
          "data": {
            "text/plain": [
              "<tf.Tensor: shape=(5, 5), dtype=float32, numpy=\n",
              "array([[ 26.850746  ,  -7.4877777 ,  24.129826  ,   7.994731  ,\n",
              "        -17.440565  ],\n",
              "       [ -5.832143  ,   9.289821  ,  -6.7012367 ,  24.065567  ,\n",
              "        -12.137888  ],\n",
              "       [ -4.800009  ,   0.04769087,  -4.496765  , -26.365547  ,\n",
              "         11.644641  ],\n",
              "       [  5.2373424 ,  33.045654  , -22.157877  ,  -6.7776356 ,\n",
              "        -43.803703  ],\n",
              "       [-15.45096   ,  -3.8501692 ,  38.412575  ,  10.450214  ,\n",
              "          0.73112726]], dtype=float32)>"
            ]
          },
          "metadata": {
            "tags": []
          },
          "execution_count": 18
        }
      ]
    },
    {
      "cell_type": "markdown",
      "metadata": {
        "id": "diC5AMuE2YW4"
      },
      "source": [
        "6. Create a tensor with random values between 0 and 1 with shape [224, 224, 3].\n"
      ]
    },
    {
      "cell_type": "code",
      "metadata": {
        "colab": {
          "base_uri": "https://localhost:8080/"
        },
        "id": "wuseeGQg2hpo",
        "outputId": "b967d1ea-8747-4b9b-fdf2-ca8432c1512c"
      },
      "source": [
        "C = tf.random.uniform(shape=(224,224,3))\n",
        "C"
      ],
      "execution_count": 19,
      "outputs": [
        {
          "output_type": "execute_result",
          "data": {
            "text/plain": [
              "<tf.Tensor: shape=(224, 224, 3), dtype=float32, numpy=\n",
              "array([[[0.7973887 , 0.77467525, 0.10477257],\n",
              "        [0.36442268, 0.32663298, 0.92103887],\n",
              "        [0.3099017 , 0.54893005, 0.20876908],\n",
              "        ...,\n",
              "        [0.57267475, 0.20365167, 0.8341985 ],\n",
              "        [0.6471853 , 0.39962673, 0.7184979 ],\n",
              "        [0.17047489, 0.1801095 , 0.36858094]],\n",
              "\n",
              "       [[0.3313626 , 0.20500588, 0.9590621 ],\n",
              "        [0.16653657, 0.583161  , 0.3789072 ],\n",
              "        [0.64866066, 0.75223196, 0.23265016],\n",
              "        ...,\n",
              "        [0.9096906 , 0.5571407 , 0.15819132],\n",
              "        [0.05612552, 0.49548542, 0.42162013],\n",
              "        [0.4767877 , 0.15280461, 0.85334086]],\n",
              "\n",
              "       [[0.655094  , 0.83468306, 0.8666209 ],\n",
              "        [0.7955097 , 0.5585139 , 0.5120914 ],\n",
              "        [0.02901924, 0.10903811, 0.6249144 ],\n",
              "        ...,\n",
              "        [0.1867944 , 0.21356308, 0.19002569],\n",
              "        [0.62358284, 0.0115881 , 0.23292518],\n",
              "        [0.3820045 , 0.95863175, 0.7558192 ]],\n",
              "\n",
              "       ...,\n",
              "\n",
              "       [[0.18771982, 0.66226876, 0.14155626],\n",
              "        [0.008129  , 0.55716753, 0.13312936],\n",
              "        [0.405133  , 0.9510684 , 0.18820822],\n",
              "        ...,\n",
              "        [0.03387654, 0.21253002, 0.7239084 ],\n",
              "        [0.8817545 , 0.94462764, 0.764632  ],\n",
              "        [0.21850204, 0.5274873 , 0.4860685 ]],\n",
              "\n",
              "       [[0.6579542 , 0.60575366, 0.33471704],\n",
              "        [0.44510448, 0.5388367 , 0.26228428],\n",
              "        [0.8514265 , 0.02701163, 0.93048453],\n",
              "        ...,\n",
              "        [0.33160138, 0.97273076, 0.21538782],\n",
              "        [0.9769622 , 0.8739517 , 0.6113224 ],\n",
              "        [0.54104257, 0.30161488, 0.05629992]],\n",
              "\n",
              "       [[0.8302982 , 0.76197743, 0.9894098 ],\n",
              "        [0.15011442, 0.05357647, 0.10349679],\n",
              "        [0.24786437, 0.23463595, 0.47095525],\n",
              "        ...,\n",
              "        [0.08408594, 0.99833286, 0.24331784],\n",
              "        [0.42993236, 0.659979  , 0.9380933 ],\n",
              "        [0.70458484, 0.73003995, 0.71306276]]], dtype=float32)>"
            ]
          },
          "metadata": {
            "tags": []
          },
          "execution_count": 19
        }
      ]
    },
    {
      "cell_type": "markdown",
      "metadata": {
        "id": "CpsM4SwQ2yTg"
      },
      "source": [
        "8. Find the min and max values of the tensor you created in 6 along the first axis.\n"
      ]
    },
    {
      "cell_type": "code",
      "metadata": {
        "colab": {
          "base_uri": "https://localhost:8080/"
        },
        "id": "IawNVhzc22Qx",
        "outputId": "fee4b9ba-9839-4269-f36a-e6f0fa0881aa"
      },
      "source": [
        "tf.reduce_min(C)"
      ],
      "execution_count": 23,
      "outputs": [
        {
          "output_type": "execute_result",
          "data": {
            "text/plain": [
              "<tf.Tensor: shape=(), dtype=float32, numpy=2.7418137e-06>"
            ]
          },
          "metadata": {
            "tags": []
          },
          "execution_count": 23
        }
      ]
    },
    {
      "cell_type": "code",
      "metadata": {
        "colab": {
          "base_uri": "https://localhost:8080/"
        },
        "id": "e1aX9P1c3CB_",
        "outputId": "50e2d52a-a2eb-48c4-89c9-a1b1a0094f65"
      },
      "source": [
        "tf.reduce_max(C)"
      ],
      "execution_count": 21,
      "outputs": [
        {
          "output_type": "execute_result",
          "data": {
            "text/plain": [
              "<tf.Tensor: shape=(), dtype=float32, numpy=0.999998>"
            ]
          },
          "metadata": {
            "tags": []
          },
          "execution_count": 21
        }
      ]
    },
    {
      "cell_type": "markdown",
      "metadata": {
        "id": "ze-6oJoi3Eol"
      },
      "source": [
        "8. Created a tensor with random values of shape [1, 224, 224, 3] then squeeze it to change the shape to [224, 224, 3].\n"
      ]
    },
    {
      "cell_type": "code",
      "metadata": {
        "colab": {
          "base_uri": "https://localhost:8080/"
        },
        "id": "ab-hjAHV3R7L",
        "outputId": "95bf7878-1b03-40ea-e824-f06b95e80a9a"
      },
      "source": [
        "D = tf.random.normal(shape=(1,224,224,3))\n",
        "F = tf.squeeze(D)\n",
        "F.shape"
      ],
      "execution_count": 27,
      "outputs": [
        {
          "output_type": "execute_result",
          "data": {
            "text/plain": [
              "TensorShape([224, 224, 3])"
            ]
          },
          "metadata": {
            "tags": []
          },
          "execution_count": 27
        }
      ]
    },
    {
      "cell_type": "markdown",
      "metadata": {
        "id": "OubY8j7V3hP4"
      },
      "source": [
        "9. Create a tensor with shape [10] using your own choice of values, then find the index which has the maximum value."
      ]
    },
    {
      "cell_type": "code",
      "metadata": {
        "colab": {
          "base_uri": "https://localhost:8080/"
        },
        "id": "8hgQ77mu3rX5",
        "outputId": "9c6f0d99-49ce-4992-a24e-87362347ef48"
      },
      "source": [
        "G = tf.constant([1,2,3,2,4,5,6,7,8,0,10])\n",
        "tf.argmax(G)"
      ],
      "execution_count": 30,
      "outputs": [
        {
          "output_type": "execute_result",
          "data": {
            "text/plain": [
              "<tf.Tensor: shape=(), dtype=int64, numpy=10>"
            ]
          },
          "metadata": {
            "tags": []
          },
          "execution_count": 30
        }
      ]
    },
    {
      "cell_type": "markdown",
      "metadata": {
        "id": "NHZ1xrJ-37Nj"
      },
      "source": [
        "10. One-hot encode the tensor you created in 9"
      ]
    },
    {
      "cell_type": "code",
      "metadata": {
        "colab": {
          "base_uri": "https://localhost:8080/"
        },
        "id": "Kzr3XEsg4aN9",
        "outputId": "47d4237a-9219-41d1-df67-cb5b0314f860"
      },
      "source": [
        "tf.one_hot(G,depth=10)"
      ],
      "execution_count": 31,
      "outputs": [
        {
          "output_type": "execute_result",
          "data": {
            "text/plain": [
              "<tf.Tensor: shape=(11, 10), dtype=float32, numpy=\n",
              "array([[0., 1., 0., 0., 0., 0., 0., 0., 0., 0.],\n",
              "       [0., 0., 1., 0., 0., 0., 0., 0., 0., 0.],\n",
              "       [0., 0., 0., 1., 0., 0., 0., 0., 0., 0.],\n",
              "       [0., 0., 1., 0., 0., 0., 0., 0., 0., 0.],\n",
              "       [0., 0., 0., 0., 1., 0., 0., 0., 0., 0.],\n",
              "       [0., 0., 0., 0., 0., 1., 0., 0., 0., 0.],\n",
              "       [0., 0., 0., 0., 0., 0., 1., 0., 0., 0.],\n",
              "       [0., 0., 0., 0., 0., 0., 0., 1., 0., 0.],\n",
              "       [0., 0., 0., 0., 0., 0., 0., 0., 1., 0.],\n",
              "       [1., 0., 0., 0., 0., 0., 0., 0., 0., 0.],\n",
              "       [0., 0., 0., 0., 0., 0., 0., 0., 0., 0.]], dtype=float32)>"
            ]
          },
          "metadata": {
            "tags": []
          },
          "execution_count": 31
        }
      ]
    },
    {
      "cell_type": "code",
      "metadata": {
        "id": "WQrQIn8w4dwH"
      },
      "source": [
        ""
      ],
      "execution_count": null,
      "outputs": []
    }
  ]
}